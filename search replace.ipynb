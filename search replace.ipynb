{
 "cells": [
  {
   "cell_type": "code",
   "execution_count": 1,
   "id": "f0932e94-4303-4e72-a71b-3208a702c975",
   "metadata": {},
   "outputs": [],
   "source": [
    "search_word='manage'\n",
    "replace_word='tackle'\n",
    "with open(r'letter.txt','r') as file:\n",
    "    data=file.read()\n",
    "    data=data.replace(search_word,replace_word)\n",
    "#replace word in text file ;the text file will be in same location "
   ]
  },
  {
   "cell_type": "code",
   "execution_count": 2,
   "id": "a6499cae-2695-4720-a82a-bd64419504a0",
   "metadata": {},
   "outputs": [],
   "source": [
    "with open(r'letter.txt','w') as file:\n",
    "    file.write(data)"
   ]
  },
  {
   "cell_type": "code",
   "execution_count": 3,
   "id": "f48b1983-1334-4540-87ff-ea689f1ddb40",
   "metadata": {},
   "outputs": [
    {
     "data": {
      "text/plain": [
       "'How can i adapt and manage everything when you are not with me?'"
      ]
     },
     "execution_count": 3,
     "metadata": {},
     "output_type": "execute_result"
    }
   ],
   "source": [
    "text='How can i adapt and tackle everything when you are not with me?'\n",
    "import re\n",
    "re.sub(replace_word,search_word,text)\n",
    "#directly replace without creating text file in same location as there is an ipynb file "
   ]
  }
 ],
 "metadata": {
  "kernelspec": {
   "display_name": "Python 3 (ipykernel)",
   "language": "python",
   "name": "python3"
  },
  "language_info": {
   "codemirror_mode": {
    "name": "ipython",
    "version": 3
   },
   "file_extension": ".py",
   "mimetype": "text/x-python",
   "name": "python",
   "nbconvert_exporter": "python",
   "pygments_lexer": "ipython3",
   "version": "3.13.7"
  }
 },
 "nbformat": 4,
 "nbformat_minor": 5
}
